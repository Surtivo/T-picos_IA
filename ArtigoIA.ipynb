{
 "cells": [
  {
   "cell_type": "code",
   "execution_count": 10,
   "metadata": {},
   "outputs": [],
   "source": [
    "import matplotlib.pyplot as plt\n",
    "import numpy as np\n",
    "import pandas as pd\n",
    "from sklearn import svm\n"
   ]
  },
  {
   "cell_type": "code",
   "execution_count": 11,
   "metadata": {},
   "outputs": [
    {
     "data": {
      "text/html": [
       "<div>\n",
       "<style scoped>\n",
       "    .dataframe tbody tr th:only-of-type {\n",
       "        vertical-align: middle;\n",
       "    }\n",
       "\n",
       "    .dataframe tbody tr th {\n",
       "        vertical-align: top;\n",
       "    }\n",
       "\n",
       "    .dataframe thead th {\n",
       "        text-align: right;\n",
       "    }\n",
       "</style>\n",
       "<table border=\"1\" class=\"dataframe\">\n",
       "  <thead>\n",
       "    <tr style=\"text-align: right;\">\n",
       "      <th></th>\n",
       "      <th>footfall</th>\n",
       "      <th>tempMode</th>\n",
       "      <th>AQ</th>\n",
       "      <th>USS</th>\n",
       "      <th>CS</th>\n",
       "      <th>VOC</th>\n",
       "      <th>RP</th>\n",
       "      <th>IP</th>\n",
       "      <th>Temperature</th>\n",
       "      <th>fail</th>\n",
       "    </tr>\n",
       "  </thead>\n",
       "  <tbody>\n",
       "    <tr>\n",
       "      <th>0</th>\n",
       "      <td>0</td>\n",
       "      <td>7</td>\n",
       "      <td>7</td>\n",
       "      <td>1</td>\n",
       "      <td>6</td>\n",
       "      <td>6</td>\n",
       "      <td>36</td>\n",
       "      <td>3</td>\n",
       "      <td>1</td>\n",
       "      <td>1</td>\n",
       "    </tr>\n",
       "    <tr>\n",
       "      <th>1</th>\n",
       "      <td>190</td>\n",
       "      <td>1</td>\n",
       "      <td>3</td>\n",
       "      <td>3</td>\n",
       "      <td>5</td>\n",
       "      <td>1</td>\n",
       "      <td>20</td>\n",
       "      <td>4</td>\n",
       "      <td>1</td>\n",
       "      <td>0</td>\n",
       "    </tr>\n",
       "    <tr>\n",
       "      <th>2</th>\n",
       "      <td>31</td>\n",
       "      <td>7</td>\n",
       "      <td>2</td>\n",
       "      <td>2</td>\n",
       "      <td>6</td>\n",
       "      <td>1</td>\n",
       "      <td>24</td>\n",
       "      <td>6</td>\n",
       "      <td>1</td>\n",
       "      <td>0</td>\n",
       "    </tr>\n",
       "    <tr>\n",
       "      <th>3</th>\n",
       "      <td>83</td>\n",
       "      <td>4</td>\n",
       "      <td>3</td>\n",
       "      <td>4</td>\n",
       "      <td>5</td>\n",
       "      <td>1</td>\n",
       "      <td>28</td>\n",
       "      <td>6</td>\n",
       "      <td>1</td>\n",
       "      <td>0</td>\n",
       "    </tr>\n",
       "    <tr>\n",
       "      <th>4</th>\n",
       "      <td>640</td>\n",
       "      <td>7</td>\n",
       "      <td>5</td>\n",
       "      <td>6</td>\n",
       "      <td>4</td>\n",
       "      <td>0</td>\n",
       "      <td>68</td>\n",
       "      <td>6</td>\n",
       "      <td>1</td>\n",
       "      <td>0</td>\n",
       "    </tr>\n",
       "    <tr>\n",
       "      <th>...</th>\n",
       "      <td>...</td>\n",
       "      <td>...</td>\n",
       "      <td>...</td>\n",
       "      <td>...</td>\n",
       "      <td>...</td>\n",
       "      <td>...</td>\n",
       "      <td>...</td>\n",
       "      <td>...</td>\n",
       "      <td>...</td>\n",
       "      <td>...</td>\n",
       "    </tr>\n",
       "    <tr>\n",
       "      <th>939</th>\n",
       "      <td>0</td>\n",
       "      <td>7</td>\n",
       "      <td>7</td>\n",
       "      <td>1</td>\n",
       "      <td>6</td>\n",
       "      <td>4</td>\n",
       "      <td>73</td>\n",
       "      <td>6</td>\n",
       "      <td>24</td>\n",
       "      <td>1</td>\n",
       "    </tr>\n",
       "    <tr>\n",
       "      <th>940</th>\n",
       "      <td>0</td>\n",
       "      <td>7</td>\n",
       "      <td>5</td>\n",
       "      <td>2</td>\n",
       "      <td>6</td>\n",
       "      <td>6</td>\n",
       "      <td>50</td>\n",
       "      <td>6</td>\n",
       "      <td>24</td>\n",
       "      <td>1</td>\n",
       "    </tr>\n",
       "    <tr>\n",
       "      <th>941</th>\n",
       "      <td>0</td>\n",
       "      <td>3</td>\n",
       "      <td>6</td>\n",
       "      <td>2</td>\n",
       "      <td>7</td>\n",
       "      <td>5</td>\n",
       "      <td>43</td>\n",
       "      <td>6</td>\n",
       "      <td>24</td>\n",
       "      <td>1</td>\n",
       "    </tr>\n",
       "    <tr>\n",
       "      <th>942</th>\n",
       "      <td>0</td>\n",
       "      <td>6</td>\n",
       "      <td>6</td>\n",
       "      <td>2</td>\n",
       "      <td>5</td>\n",
       "      <td>6</td>\n",
       "      <td>46</td>\n",
       "      <td>7</td>\n",
       "      <td>24</td>\n",
       "      <td>1</td>\n",
       "    </tr>\n",
       "    <tr>\n",
       "      <th>943</th>\n",
       "      <td>18</td>\n",
       "      <td>7</td>\n",
       "      <td>4</td>\n",
       "      <td>2</td>\n",
       "      <td>6</td>\n",
       "      <td>3</td>\n",
       "      <td>61</td>\n",
       "      <td>7</td>\n",
       "      <td>24</td>\n",
       "      <td>1</td>\n",
       "    </tr>\n",
       "  </tbody>\n",
       "</table>\n",
       "<p>944 rows × 10 columns</p>\n",
       "</div>"
      ],
      "text/plain": [
       "     footfall  tempMode  AQ  USS  CS  VOC  RP  IP  Temperature  fail\n",
       "0           0         7   7    1   6    6  36   3            1     1\n",
       "1         190         1   3    3   5    1  20   4            1     0\n",
       "2          31         7   2    2   6    1  24   6            1     0\n",
       "3          83         4   3    4   5    1  28   6            1     0\n",
       "4         640         7   5    6   4    0  68   6            1     0\n",
       "..        ...       ...  ..  ...  ..  ...  ..  ..          ...   ...\n",
       "939         0         7   7    1   6    4  73   6           24     1\n",
       "940         0         7   5    2   6    6  50   6           24     1\n",
       "941         0         3   6    2   7    5  43   6           24     1\n",
       "942         0         6   6    2   5    6  46   7           24     1\n",
       "943        18         7   4    2   6    3  61   7           24     1\n",
       "\n",
       "[944 rows x 10 columns]"
      ]
     },
     "execution_count": 11,
     "metadata": {},
     "output_type": "execute_result"
    }
   ],
   "source": [
    "failMachine = pd.read_csv('Machine Failure Prediction using Sensor data.csv')\n",
    "failMachine\n"
   ]
  },
  {
   "cell_type": "code",
   "execution_count": 12,
   "metadata": {},
   "outputs": [],
   "source": [
    "X = failMachine.loc[:,~failMachine.columns.isin (['fail'])]\n",
    "y = failMachine['fail']\n"
   ]
  },
  {
   "cell_type": "code",
   "execution_count": 58,
   "metadata": {},
   "outputs": [],
   "source": [
    "from sklearn.model_selection import train_test_split\n",
    "\n",
    "Xtrain,Xtest,ytrain,ytest = train_test_split(X,y,test_size=0.3)\n"
   ]
  },
  {
   "cell_type": "code",
   "execution_count": 14,
   "metadata": {},
   "outputs": [],
   "source": [
    "from sklearn.preprocessing import StandardScaler\n",
    "sc = StandardScaler()\n",
    "Xtrain = pd.DataFrame(sc.fit_transform(Xtrain),index=Xtrain.index, columns=Xtrain.columns)\n",
    "Xtest = pd.DataFrame(sc.fit_transform(Xtest),index=Xtest.index, columns=Xtest.columns)\n"
   ]
  },
  {
   "cell_type": "code",
   "execution_count": 15,
   "metadata": {},
   "outputs": [
    {
     "data": {
      "text/plain": [
       "0.9049295774647887"
      ]
     },
     "execution_count": 15,
     "metadata": {},
     "output_type": "execute_result"
    }
   ],
   "source": [
    "modelo = svm.SVC()\n",
    "modelo.fit(X=Xtrain,y=ytrain)\n",
    "modelo.score(Xtest,ytest) "
   ]
  },
  {
   "cell_type": "code",
   "execution_count": 16,
   "metadata": {},
   "outputs": [],
   "source": [
    "from sklearn.model_selection import StratifiedKFold\n",
    "param_grid = {\n",
    "    \"C\": np.linspace(0.01,100,100),\n",
    "    \"gamma\": np.linspace(0.01,1,10),\n",
    "    \"kernel\":['rbf', 'linear', 'sigmoid']\n",
    "}\n",
    "\n",
    "kfold = StratifiedKFold(n_splits=3,shuffle=True)"
   ]
  },
  {
   "cell_type": "code",
   "execution_count": 17,
   "metadata": {},
   "outputs": [
    {
     "name": "stdout",
     "output_type": "stream",
     "text": [
      "Fitting 3 folds for each of 3000 candidates, totalling 9000 fits\n"
     ]
    }
   ],
   "source": [
    "from sklearn.model_selection import GridSearchCV\n",
    "grid_search = GridSearchCV(estimator=modelo,\n",
    "                           param_grid=param_grid,\n",
    "                           scoring='accuracy',\n",
    "                           n_jobs=-1,\n",
    "                           cv = kfold,\n",
    "                           verbose=3\n",
    "                           )\n",
    "grid_result = grid_search.fit(Xtrain,ytrain)"
   ]
  },
  {
   "cell_type": "code",
   "execution_count": 18,
   "metadata": {},
   "outputs": [
    {
     "name": "stdout",
     "output_type": "stream",
     "text": [
      "{'C': np.float64(1.02), 'gamma': np.float64(0.23), 'kernel': 'rbf'}\n",
      "0.9060606060606061\n",
      "0.9014084507042254\n"
     ]
    }
   ],
   "source": [
    "print(grid_result.best_params_)\n",
    "print(grid_result.best_score_)\n",
    "print(grid_result.score(Xtest,ytest))"
   ]
  },
  {
   "cell_type": "code",
   "execution_count": 19,
   "metadata": {},
   "outputs": [
    {
     "data": {
      "text/plain": [
       "0.9190140845070423"
      ]
     },
     "execution_count": 19,
     "metadata": {},
     "output_type": "execute_result"
    }
   ],
   "source": [
    "modelobest = svm.SVC(C=0.01,gamma= 0.23,kernel='sigmoid')\n",
    "modelobest.fit(Xtrain,ytrain)\n",
    "modelobest.score(Xtest,ytest)"
   ]
  },
  {
   "cell_type": "code",
   "execution_count": 25,
   "metadata": {},
   "outputs": [],
   "source": [
    "import pygad\n",
    "import numpy as np\n",
    "from sklearn.svm import SVC\n",
    "from sklearn.model_selection import cross_val_score\n",
    "\n",
    "# Função de fitness para otimização dos parâmetros com k-fold\n",
    "def fitness_function(ga_instance, solution, solution_idx):\n",
    "    C, gamma = solution\n",
    "    model = SVC(kernel='rbf', C=C, gamma=gamma, random_state=42)\n",
    "    \n",
    "    # Validando a performance do modelo usando validação cruzada k-fold\n",
    "    scores = cross_val_score(model, Xtrain, ytrain, cv=5, scoring='accuracy')  # cv=5 para k-fold\n",
    "    return np.mean(scores),  # Retorna uma tupla (PyGAD exige isso)\n",
    "\n"
   ]
  },
  {
   "cell_type": "code",
   "execution_count": 26,
   "metadata": {},
   "outputs": [],
   "source": [
    "# Definindo a estrutura do algoritmo genético\n",
    "def run_ga():\n",
    "    sol_per_pop = 10  # Número de soluções na população\n",
    "    num_genes = 2  # Número de parâmetros: C e gamma\n",
    "\n",
    "    # Definir o intervalo para C e gamma\n",
    "    gene_space = [{'low': 0.1, 'high': 1000},  # C\n",
    "                  {'low': 0.001, 'high': 1}]  # gamma\n",
    "\n",
    "    # Inicializando o PyGAD\n",
    "    ga_instance = pygad.GA(num_generations=10,\n",
    "                           num_parents_mating=5,  # número de pais para a reprodução\n",
    "                           sol_per_pop=sol_per_pop,  # soluções por população\n",
    "                           num_genes=num_genes,  # número de parâmetros\n",
    "                           gene_space=gene_space,  # intervalo de valores para cada gene\n",
    "                           fitness_func=fitness_function,  # função de fitness\n",
    "                           crossover_type=\"uniform\",  # tipo de crossover\n",
    "                           crossover_probability=0.8,  # probabilidade de crossover\n",
    "                           mutation_type=\"random\",  # tipo de mutação\n",
    "                           mutation_probability=0.2,  # probabilidade de mutação\n",
    "                           parent_selection_type=\"tournament\",  # seleção dos pais\n",
    "                           keep_parents=1)  # número de pais a serem mantidos\n",
    "\n",
    "    # Executando a otimização\n",
    "    ga_instance.run()\n",
    "\n",
    "    # Acompanhando o progresso por geração\n",
    "    for generation in range(ga_instance.num_generations):\n",
    "        best_solution, best_solution_fitness, best_solution_idx = ga_instance.best_solution()\n",
    "        print(f\"Geração {generation + 1} - Melhor fitness: {best_solution_fitness}\")\n",
    "        print(f\"Melhor C: {best_solution[0]}, Melhor Gamma: {best_solution[1]}\")\n",
    "\n",
    "    # Obtendo os melhores parâmetros\n",
    "    best_solution, best_solution_fitness, best_solution_idx = ga_instance.best_solution()\n",
    "    best_C, best_gamma = best_solution\n",
    "    print(f'Melhor C final: {best_C}, Melhor Gamma final: {best_gamma}')\n",
    "    return best_C, best_gamma"
   ]
  },
  {
   "cell_type": "code",
   "execution_count": 27,
   "metadata": {},
   "outputs": [
    {
     "name": "stdout",
     "output_type": "stream",
     "text": [
      "Geração 1 - Melhor fitness: [0.90454545]\n",
      "Melhor C: 54.506794107277216, Melhor Gamma: 0.01670142704857838\n",
      "Geração 2 - Melhor fitness: [0.90454545]\n",
      "Melhor C: 54.506794107277216, Melhor Gamma: 0.01670142704857838\n",
      "Geração 3 - Melhor fitness: [0.90454545]\n",
      "Melhor C: 54.506794107277216, Melhor Gamma: 0.01670142704857838\n",
      "Geração 4 - Melhor fitness: [0.90454545]\n",
      "Melhor C: 54.506794107277216, Melhor Gamma: 0.01670142704857838\n",
      "Geração 5 - Melhor fitness: [0.90454545]\n",
      "Melhor C: 54.506794107277216, Melhor Gamma: 0.01670142704857838\n",
      "Geração 6 - Melhor fitness: [0.90454545]\n",
      "Melhor C: 54.506794107277216, Melhor Gamma: 0.01670142704857838\n",
      "Geração 7 - Melhor fitness: [0.90454545]\n",
      "Melhor C: 54.506794107277216, Melhor Gamma: 0.01670142704857838\n",
      "Geração 8 - Melhor fitness: [0.90454545]\n",
      "Melhor C: 54.506794107277216, Melhor Gamma: 0.01670142704857838\n",
      "Geração 9 - Melhor fitness: [0.90454545]\n",
      "Melhor C: 54.506794107277216, Melhor Gamma: 0.01670142704857838\n",
      "Geração 10 - Melhor fitness: [0.90454545]\n",
      "Melhor C: 54.506794107277216, Melhor Gamma: 0.01670142704857838\n",
      "Melhor C final: 54.506794107277216, Melhor Gamma final: 0.01670142704857838\n"
     ]
    }
   ],
   "source": [
    "best_C, best_gamma = run_ga()\n"
   ]
  },
  {
   "cell_type": "code",
   "execution_count": 42,
   "metadata": {},
   "outputs": [
    {
     "name": "stdout",
     "output_type": "stream",
     "text": [
      "Acurácia otimizada: 0.9155\n",
      "              precision    recall  f1-score   support\n",
      "\n",
      "           0       0.89      0.97      0.93       154\n",
      "           1       0.96      0.85      0.90       130\n",
      "\n",
      "    accuracy                           0.92       284\n",
      "   macro avg       0.92      0.91      0.91       284\n",
      "weighted avg       0.92      0.92      0.91       284\n",
      "\n"
     ]
    }
   ],
   "source": [
    "from sklearn.metrics import accuracy_score, classification_report\n",
    "from sklearn.preprocessing import LabelEncoder\n",
    "\n",
    "target_encoder = LabelEncoder()\n",
    "\n",
    "# Treinar o modelo SVM com os melhores parâmetros\n",
    "svm_optimized = SVC(kernel='rbf', C=best_C, gamma=best_gamma, random_state=42)\n",
    "svm_optimized.fit(Xtrain, ytrain)\n",
    "\n",
    "# Avaliação no conjunto de teste\n",
    "y_pred_optimized = svm_optimized.predict(Xtest)\n",
    "accuracy_optimized = accuracy_score(ytest, y_pred_optimized)\n",
    "\n",
    "modelo.score(Xtest,y_pred_optimized)\n",
    "\n",
    "print(f'Acurácia otimizada: {accuracy_optimized:.4f}')\n",
    "print(classification_report(ytest, y_pred_optimized, target_names=None))"
   ]
  },
  {
   "cell_type": "code",
   "execution_count": 65,
   "metadata": {},
   "outputs": [
    {
     "data": {
      "image/png": "[encoded data removed]",
      "text/plain": [
       "<Figure size 640x480 with 2 Axes>"
      ]
     },
     "metadata": {},
     "output_type": "display_data"
    }
   ],
   "source": [
    "import matplotlib.pyplot as plt\n",
    "from sklearn.metrics import confusion_matrix, ConfusionMatrixDisplay\n",
    "\n",
    "# Gerar a matriz de confusão\n",
    "cm = confusion_matrix(ytest, y_pred_optimized)\n",
    "\n",
    "# Plotar a matriz de confusão com os labels do modelo\n",
    "disp = ConfusionMatrixDisplay(confusion_matrix=cm, display_labels=svm_optimized.classes_)\n",
    "disp.plot(cmap=plt.cm.Blues)\n",
    "\n",
    "# Ajustar título e rótulos\n",
    "plt.title(\"Matriz de Confusão\")\n",
    "plt.xlabel(\"Previsto\")\n",
    "plt.ylabel(\"Real\")\n",
    "plt.show()\n"
   ]
  }
 ],
 "metadata": {
  "kernelspec": {
   "display_name": ".venv",
   "language": "python",
   "name": "python3"
  },
  "language_info": {
   "codemirror_mode": {
    "name": "ipython",
    "version": 3
   },
   "file_extension": ".py",
   "mimetype": "text/x-python",
   "name": "python",
   "nbconvert_exporter": "python",
   "pygments_lexer": "ipython3",
   "version": "3.11.9"
  }
 },
 "nbformat": 4,
 "nbformat_minor": 2
}
